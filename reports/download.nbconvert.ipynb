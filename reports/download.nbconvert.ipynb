{
 "cells": [
  {
   "cell_type": "code",
   "execution_count": 1,
   "metadata": {
    "execution": {
     "iopub.execute_input": "2022-07-09T07:25:00.225088Z",
     "iopub.status.busy": "2022-07-09T07:25:00.224524Z",
     "iopub.status.idle": "2022-07-09T07:25:02.687390Z",
     "shell.execute_reply": "2022-07-09T07:25:02.686620Z"
    }
   },
   "outputs": [
    {
     "ename": "ModuleNotFoundError",
     "evalue": "No module named 'pandas'",
     "output_type": "error",
     "traceback": [
      "\u001b[0;31m---------------------------------------------------------------------------\u001b[0m",
      "\u001b[0;31mModuleNotFoundError\u001b[0m                       Traceback (most recent call last)",
      "\u001b[1;32m/workspaces/phai-sinh/reports/download.nbconvert.ipynb Cell 1\u001b[0m in \u001b[0;36m<cell line: 1>\u001b[0;34m()\u001b[0m\n\u001b[0;32m----> <a href='vscode-notebook-cell://codespaces%2Bhaucongle-phai-sinh-5x6grv5w24jx/workspaces/phai-sinh/reports/download.nbconvert.ipynb#ch0000000vscode-remote?line=0'>1</a>\u001b[0m \u001b[39mimport\u001b[39;00m \u001b[39mpandas\u001b[39;00m \u001b[39mas\u001b[39;00m \u001b[39mpd\u001b[39;00m\n\u001b[1;32m      <a href='vscode-notebook-cell://codespaces%2Bhaucongle-phai-sinh-5x6grv5w24jx/workspaces/phai-sinh/reports/download.nbconvert.ipynb#ch0000000vscode-remote?line=1'>2</a>\u001b[0m \u001b[39mimport\u001b[39;00m \u001b[39mwget\u001b[39;00m\n",
      "\u001b[0;31mModuleNotFoundError\u001b[0m: No module named 'pandas'"
     ]
    }
   ],
   "source": [
    "import pandas as pd\n",
    "import wget"
   ]
  },
  {
   "cell_type": "code",
   "execution_count": null,
   "metadata": {
    "execution": {
     "iopub.execute_input": "2022-07-09T07:25:02.691550Z",
     "iopub.status.busy": "2022-07-09T07:25:02.690846Z",
     "iopub.status.idle": "2022-07-09T07:25:02.696027Z",
     "shell.execute_reply": "2022-07-09T07:25:02.695321Z"
    }
   },
   "outputs": [],
   "source": [
    "daterange = pd.date_range(start='2021-10-01', end='2021-10-31', freq='B')"
   ]
  },
  {
   "cell_type": "code",
   "execution_count": null,
   "metadata": {
    "execution": {
     "iopub.execute_input": "2022-07-09T07:25:02.700022Z",
     "iopub.status.busy": "2022-07-09T07:25:02.698908Z",
     "iopub.status.idle": "2022-07-09T07:25:05.046078Z",
     "shell.execute_reply": "2022-07-09T07:25:05.045166Z"
    }
   },
   "outputs": [
    {
     "name": "stdout",
     "output_type": "stream",
     "text": [
      "100% [............................................................................] 400493 / 400493"
     ]
    }
   ],
   "source": [
    "for single_date in daterange:\n",
    "    filename = single_date.strftime(\"%Y%m%d\") + '_FuturesReport.pdf';\n",
    "    url = 'https://static.tcbs.com.vn/oneclick/' + filename\n",
    "    try:\n",
    "        wget.download(url, './2021/10' + filename)\n",
    "    except Exception as e:\n",
    "        print(\"Could not download file\", filename)"
   ]
  }
 ],
 "metadata": {
  "interpreter": {
   "hash": "31f2aee4e71d21fbe5cf8b01ff0e069b9275f58929596ceb00d14d90e3e16cd6"
  },
  "kernelspec": {
   "display_name": "Python 3.8.2 64-bit",
   "name": "python3"
  },
  "language_info": {
   "codemirror_mode": {
    "name": "ipython",
    "version": 3
   },
   "file_extension": ".py",
   "mimetype": "text/x-python",
   "name": "python",
   "nbconvert_exporter": "python",
   "pygments_lexer": "ipython3",
   "version": "3.8.10"
  }
 },
 "nbformat": 4,
 "nbformat_minor": 2
}
