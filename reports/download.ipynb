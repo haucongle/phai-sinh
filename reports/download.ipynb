{
 "cells": [
  {
   "cell_type": "code",
   "execution_count": 22,
   "metadata": {},
   "outputs": [],
   "source": [
    "import pandas as pd\n",
    "import wget"
   ]
  },
  {
   "cell_type": "code",
   "execution_count": 23,
   "metadata": {},
   "outputs": [],
   "source": [
    "daterange = pd.date_range(start='2022-01-01', end='2022-01-31', freq='B')"
   ]
  },
  {
   "cell_type": "code",
   "execution_count": 24,
   "metadata": {},
   "outputs": [
    {
     "name": "stdout",
     "output_type": "stream",
     "text": [
      "Could not download file 20220103_FuturesReport.pdf\n",
      "Could not download file 20220131_FuturesReport.pdf\n"
     ]
    }
   ],
   "source": [
    "for date in daterange:\n",
    "    filename = date.strftime(\"%Y%m%d\") + '_FuturesReport.pdf';\n",
    "    url = 'https://static.tcbs.com.vn/oneclick/' + filename\n",
    "    try:\n",
    "        wget.download(url, '2022/01/' + filename)\n",
    "    except Exception as e:\n",
    "        print(\"Could not download file\", filename)"
   ]
  }
 ],
 "metadata": {
  "interpreter": {
   "hash": "31f2aee4e71d21fbe5cf8b01ff0e069b9275f58929596ceb00d14d90e3e16cd6"
  },
  "kernelspec": {
   "display_name": "Python 3.8.2 64-bit",
   "name": "python3"
  },
  "language_info": {
   "codemirror_mode": {
    "name": "ipython",
    "version": 3
   },
   "file_extension": ".py",
   "mimetype": "text/x-python",
   "name": "python",
   "nbconvert_exporter": "python",
   "pygments_lexer": "ipython3",
   "version": "3.8.9"
  },
  "orig_nbformat": 4
 },
 "nbformat": 4,
 "nbformat_minor": 2
}
