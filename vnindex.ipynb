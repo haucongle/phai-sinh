{
 "cells": [
  {
   "cell_type": "code",
   "execution_count": 210,
   "source": [
    "import pandas as pd"
   ],
   "outputs": [],
   "metadata": {}
  },
  {
   "cell_type": "code",
   "execution_count": 211,
   "source": [
    "from pandas.tseries.frequencies import to_offset"
   ],
   "outputs": [],
   "metadata": {}
  },
  {
   "cell_type": "code",
   "execution_count": 212,
   "source": [
    "df = pd.read_csv('ps5.csv')\n",
    "# df = pd.read_csv('vnindex.csv')"
   ],
   "outputs": [],
   "metadata": {}
  },
  {
   "cell_type": "code",
   "execution_count": 213,
   "source": [
    "df['t'] = pd.to_datetime(df['t'])\n",
    "# df['<Date>'] = pd.to_datetime(df['<Date>'])"
   ],
   "outputs": [],
   "metadata": {}
  },
  {
   "cell_type": "code",
   "execution_count": 214,
   "source": [
    "# df['<Volume>'] = pd.to_numeric(df['<Volume>'])"
   ],
   "outputs": [],
   "metadata": {}
  },
  {
   "cell_type": "code",
   "execution_count": 215,
   "source": [
    "df = df.set_index('t')\n",
    "# df = df.set_index('<Date>')"
   ],
   "outputs": [],
   "metadata": {}
  },
  {
   "cell_type": "code",
   "execution_count": 216,
   "source": [
    "# H, T: hour, minute\n",
    "df_resampled = df.resample('15T').agg({\n",
    "    'c': 'last',\n",
    "    'o': 'first',\n",
    "    'h': 'max',\n",
    "    'l': 'min'\n",
    "}).dropna()\n",
    "# D, W, MS, AS: day, week, month, year\n",
    "# df_resampled = df.resample('AS', label='left').agg({'<Open>': 'first',\n",
    "#                       '<High>': 'max',\n",
    "#                       '<Low>': 'min',\n",
    "#                       '<Close>': 'last',\n",
    "#                       '<Volume>': 'sum'\n",
    "#                      })\n"
   ],
   "outputs": [],
   "metadata": {
    "scrolled": false
   }
  },
  {
   "cell_type": "code",
   "execution_count": 217,
   "source": [
    "# only week\n",
    "# df_resampled.index = df_resampled.index + to_offset(pd.DateOffset(days=1))"
   ],
   "outputs": [],
   "metadata": {}
  },
  {
   "cell_type": "code",
   "execution_count": 218,
   "source": [
    "df_resampled"
   ],
   "outputs": [
    {
     "output_type": "execute_result",
     "data": {
      "text/html": [
       "<div>\n",
       "<style scoped>\n",
       "    .dataframe tbody tr th:only-of-type {\n",
       "        vertical-align: middle;\n",
       "    }\n",
       "\n",
       "    .dataframe tbody tr th {\n",
       "        vertical-align: top;\n",
       "    }\n",
       "\n",
       "    .dataframe thead th {\n",
       "        text-align: right;\n",
       "    }\n",
       "</style>\n",
       "<table border=\"1\" class=\"dataframe\">\n",
       "  <thead>\n",
       "    <tr style=\"text-align: right;\">\n",
       "      <th></th>\n",
       "      <th>o</th>\n",
       "      <th>h</th>\n",
       "      <th>l</th>\n",
       "      <th>c</th>\n",
       "    </tr>\n",
       "    <tr>\n",
       "      <th>t</th>\n",
       "      <th></th>\n",
       "      <th></th>\n",
       "      <th></th>\n",
       "      <th></th>\n",
       "    </tr>\n",
       "  </thead>\n",
       "  <tbody>\n",
       "    <tr>\n",
       "      <th>2018-11-16 09:00:00</th>\n",
       "      <td>869.0</td>\n",
       "      <td>870.0</td>\n",
       "      <td>869.0</td>\n",
       "      <td>870.0</td>\n",
       "    </tr>\n",
       "    <tr>\n",
       "      <th>2018-11-16 09:15:00</th>\n",
       "      <td>870.0</td>\n",
       "      <td>930.0</td>\n",
       "      <td>864.1</td>\n",
       "      <td>872.0</td>\n",
       "    </tr>\n",
       "    <tr>\n",
       "      <th>2018-11-16 09:30:00</th>\n",
       "      <td>870.3</td>\n",
       "      <td>870.3</td>\n",
       "      <td>869.9</td>\n",
       "      <td>870.0</td>\n",
       "    </tr>\n",
       "    <tr>\n",
       "      <th>2018-11-16 09:45:00</th>\n",
       "      <td>869.9</td>\n",
       "      <td>870.5</td>\n",
       "      <td>869.5</td>\n",
       "      <td>870.4</td>\n",
       "    </tr>\n",
       "    <tr>\n",
       "      <th>2018-11-16 10:00:00</th>\n",
       "      <td>869.8</td>\n",
       "      <td>870.0</td>\n",
       "      <td>869.5</td>\n",
       "      <td>870.0</td>\n",
       "    </tr>\n",
       "    <tr>\n",
       "      <th>...</th>\n",
       "      <td>...</td>\n",
       "      <td>...</td>\n",
       "      <td>...</td>\n",
       "      <td>...</td>\n",
       "    </tr>\n",
       "    <tr>\n",
       "      <th>2021-09-01 13:45:00</th>\n",
       "      <td>1,424.2</td>\n",
       "      <td>1,427.4</td>\n",
       "      <td>1,424.2</td>\n",
       "      <td>1,426.9</td>\n",
       "    </tr>\n",
       "    <tr>\n",
       "      <th>2021-09-01 14:00:00</th>\n",
       "      <td>1,426.9</td>\n",
       "      <td>1,434.0</td>\n",
       "      <td>1,426.0</td>\n",
       "      <td>1,431.2</td>\n",
       "    </tr>\n",
       "    <tr>\n",
       "      <th>2021-09-01 14:15:00</th>\n",
       "      <td>1,431.2</td>\n",
       "      <td>1,434.0</td>\n",
       "      <td>1,426.0</td>\n",
       "      <td>1,427.5</td>\n",
       "    </tr>\n",
       "    <tr>\n",
       "      <th>2021-09-01 14:30:00</th>\n",
       "      <td>1,427.5</td>\n",
       "      <td>1,427.5</td>\n",
       "      <td>1,427.5</td>\n",
       "      <td>1,427.5</td>\n",
       "    </tr>\n",
       "    <tr>\n",
       "      <th>2021-09-01 14:45:00</th>\n",
       "      <td>1,428.6</td>\n",
       "      <td>1,428.6</td>\n",
       "      <td>1,428.6</td>\n",
       "      <td>1,428.6</td>\n",
       "    </tr>\n",
       "  </tbody>\n",
       "</table>\n",
       "<p>97944 rows × 4 columns</p>\n",
       "</div>"
      ],
      "text/plain": [
       "                           o        h        l        c\n",
       "t                                                      \n",
       "2018-11-16 09:00:00    869.0    870.0    869.0    870.0\n",
       "2018-11-16 09:15:00    870.0    930.0    864.1    872.0\n",
       "2018-11-16 09:30:00    870.3    870.3    869.9    870.0\n",
       "2018-11-16 09:45:00    869.9    870.5    869.5    870.4\n",
       "2018-11-16 10:00:00    869.8    870.0    869.5    870.0\n",
       "...                      ...      ...      ...      ...\n",
       "2021-09-01 13:45:00  1,424.2  1,427.4  1,424.2  1,426.9\n",
       "2021-09-01 14:00:00  1,426.9  1,434.0  1,426.0  1,431.2\n",
       "2021-09-01 14:15:00  1,431.2  1,434.0  1,426.0  1,427.5\n",
       "2021-09-01 14:30:00  1,427.5  1,427.5  1,427.5  1,427.5\n",
       "2021-09-01 14:45:00  1,428.6  1,428.6  1,428.6  1,428.6\n",
       "\n",
       "[97944 rows x 4 columns]"
      ]
     },
     "metadata": {},
     "execution_count": 218
    }
   ],
   "metadata": {}
  },
  {
   "cell_type": "code",
   "execution_count": 219,
   "source": [
    "df_resampled.to_csv('15m.csv')"
   ],
   "outputs": [],
   "metadata": {}
  }
 ],
 "metadata": {
  "kernelspec": {
   "name": "python3",
   "display_name": "Python 3.8.2 64-bit"
  },
  "language_info": {
   "codemirror_mode": {
    "name": "ipython",
    "version": 3
   },
   "file_extension": ".py",
   "mimetype": "text/x-python",
   "name": "python",
   "nbconvert_exporter": "python",
   "pygments_lexer": "ipython3",
   "version": "3.8.2"
  },
  "interpreter": {
   "hash": "31f2aee4e71d21fbe5cf8b01ff0e069b9275f58929596ceb00d14d90e3e16cd6"
  }
 },
 "nbformat": 4,
 "nbformat_minor": 5
}